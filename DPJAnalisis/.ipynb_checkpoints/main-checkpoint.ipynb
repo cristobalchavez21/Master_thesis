{
 "cells": [
  {
   "cell_type": "code",
   "execution_count": 2,
   "metadata": {},
   "outputs": [],
   "source": [
    "import yaml\n",
    "import awkward as aw\n",
    "import uproot\n",
    "from util import get_minit_from_procces_file, save_array_to_file, significance, get_cutted_files\n",
    "import hist\n",
    "import math\n",
    "import numpy as np\n",
    "from scipy.stats import kstest\n",
    "from imblearn.under_sampling import RandomUnderSampler\n",
    "from imblearn.over_sampling import RandomOverSampler"
   ]
  },
  {
   "cell_type": "code",
   "execution_count": 3,
   "metadata": {},
   "outputs": [],
   "source": [
    "with open('config.yaml') as conf_file:\n",
    "    config = yaml.load(conf_file, Loader=yaml.Loader) "
   ]
  },
  {
   "cell_type": "markdown",
   "metadata": {},
   "source": [
    "#### Prepare the cuted files "
   ]
  },
  {
   "cell_type": "code",
   "execution_count": 4,
   "metadata": {},
   "outputs": [],
   "source": [
    "do_cut = 0\n"
   ]
  },
  {
   "cell_type": "code",
   "execution_count": 4,
   "metadata": {},
   "outputs": [
    {
     "name": "stdout",
     "output_type": "stream",
     "text": [
      "-----------------------------------------------------------------------------------------------------------\n",
      "                                   The input process is VBF\n",
      "-----------------------------------------------------------------------------------------------------------\n",
      "| Cut                    |   Events |   Sum of weights |   Sum of intLumi*scale1fb |\n",
      "|------------------------+----------+------------------+---------------------------|\n",
      "| Baseline pre-selection |    43237 |         4993.05  |                  2497.75  |\n",
      "| VBF filter cut         |     4840 |          555.837 |                   280.907 |\n",
      "-----------------------------------------------------------------------------------------------------------\n",
      "                                   The input process is QCD\n",
      "-----------------------------------------------------------------------------------------------------------\n",
      "| Cut                    |   Events |   Sum of weights |   Sum of intLumi*scale1fb |\n",
      "|------------------------+----------+------------------+---------------------------|\n",
      "| Baseline pre-selection |  2999214 |       70.2044    |               9.73652e+09 |\n",
      "| VBF filter cut         |   108119 |        0.0166475 |               1.43537e+06 |\n",
      "-----------------------------------------------------------------------------------------------------------\n",
      "                                   The input process is TOP\n",
      "-----------------------------------------------------------------------------------------------------------\n",
      "| Cut                    |   Events |   Sum of weights |   Sum of intLumi*scale1fb |\n",
      "|------------------------+----------+------------------+---------------------------|\n",
      "| Baseline pre-selection |  1165003 |      7.96694e+08 |                 157558    |\n",
      "| VBF filter cut         |    60956 |      3.97845e+07 |                   8071.39 |\n",
      "-----------------------------------------------------------------------------------------------------------\n",
      "                                   The input process is Wjets\n",
      "-----------------------------------------------------------------------------------------------------------\n",
      "| Cut                    |   Events |   Sum of weights |   Sum of intLumi*scale1fb |\n",
      "|------------------------+----------+------------------+---------------------------|\n",
      "| Baseline pre-selection | 11126118 |      1.02183e+07 |                  717593   |\n",
      "| VBF filter cut         |  1276020 |      1.18055e+06 |                   50220.5 |\n",
      "-----------------------------------------------------------------------------------------------------------\n",
      "                                   The input process is Wjj\n",
      "-----------------------------------------------------------------------------------------------------------\n",
      "| Cut                    |   Events |   Sum of weights |   Sum of intLumi*scale1fb |\n",
      "|------------------------+----------+------------------+---------------------------|\n",
      "| Baseline pre-selection |  1341604 |         26260.1  |                  210462   |\n",
      "| VBF filter cut         |   269869 |          2470.26 |                   19892.7 |\n",
      "-----------------------------------------------------------------------------------------------------------\n",
      "                                   The input process is Zjets\n",
      "-----------------------------------------------------------------------------------------------------------\n",
      "| Cut                    |   Events |   Sum of weights |   Sum of intLumi*scale1fb |\n",
      "|------------------------+----------+------------------+---------------------------|\n",
      "| Baseline pre-selection |  4685666 |      4.25859e+06 |                  301500   |\n",
      "| VBF filter cut         |   901015 | 826501           |                   35062.8 |\n",
      "-----------------------------------------------------------------------------------------------------------\n",
      "                                   The input process is Zjj\n",
      "-----------------------------------------------------------------------------------------------------------\n",
      "| Cut                    |   Events |   Sum of weights |   Sum of intLumi*scale1fb |\n",
      "|------------------------+----------+------------------+---------------------------|\n",
      "| Baseline pre-selection |  1540338 |         29257.9  |                  63517.4  |\n",
      "| VBF filter cut         |   313884 |          3008.76 |                   7585.34 |\n"
     ]
    }
   ],
   "source": [
    "\n",
    "for procees in config['ttree']['files'].keys():\n",
    "    temp_data = get_minit_from_procces_file(procees, config, show_stat=True, do_cut=do_cut) #True)\n",
    "    temp_data[\"isVBF\"] = 1 if \"VBF\" in procees  else 0\n",
    "    temp_data[\"weight\"] = temp_data[\"scale1fb\"] * temp_data[\"intLumi\"]\n",
    "    save_array_to_file(temp_data, f\"{procees}_{do_cut}_cuts.root\", config, extra_branch=[\"isVBF\"])\n",
    "del temp_data"
   ]
  },
  {
   "cell_type": "markdown",
   "metadata": {},
   "source": [
    "#### get cuted files "
   ]
  },
  {
   "cell_type": "code",
   "execution_count": 5,
   "metadata": {},
   "outputs": [],
   "source": [
    "\n",
    "data_chain = uproot.lazy([f\"output/{procees}_{do_cut}_cuts.root:miniT\" for procees in config['ttree']['files'].keys()])\n",
    "data_s = data_chain.mask[data_chain[\"isVBF\"] == True]\n",
    "data_b = data_chain.mask[data_chain[\"isVBF\"] == False]"
   ]
  },
  {
   "cell_type": "markdown",
   "metadata": {},
   "source": [
    "Check the significance"
   ]
  },
  {
   "cell_type": "code",
   "execution_count": 6,
   "metadata": {},
   "outputs": [
    {
     "name": "stdout",
     "output_type": "stream",
     "text": [
      "signal: 4993.0478515625, bkg: 811226240.0, significance: 0.17530463424231038, asimov_significance: 0.1762454460877532\n"
     ]
    }
   ],
   "source": [
    "s = aw.sum(data_s['weight'])\n",
    "b = aw.sum(data_b['weight'])\n",
    "print(f\"signal: {s}, bkg: {b}, significance: {s/math.sqrt(s+b)}, asimov_significance: {significance(s,b)}\")"
   ]
  },
  {
   "cell_type": "markdown",
   "metadata": {},
   "source": [
    "create the split train test"
   ]
  },
  {
   "cell_type": "code",
   "execution_count": 7,
   "metadata": {},
   "outputs": [],
   "source": [
    "split_frac = 0.5\n",
    "\n",
    "array_len = len(data_chain[\"weight\"])\n",
    "mask = np.zeros(array_len, dtype=int)\n",
    "mask[:int(array_len * split_frac)] = 1\n",
    "np.random.shuffle(mask)\n",
    "mask = aw.Array(mask.astype(bool))\n",
    "anti_mask = aw.Array(~mask)\n",
    "train_data = data_chain.mask[anti_mask]\n",
    "test_data = data_chain.mask[mask]\n"
   ]
  },
  {
   "cell_type": "markdown",
   "metadata": {},
   "source": [
    "#### Train regresor"
   ]
  },
  {
   "cell_type": "code",
   "execution_count": 8,
   "metadata": {},
   "outputs": [],
   "source": [
    "from sklearn.neural_network import MLPRegressor\n",
    "import time"
   ]
  },
  {
   "cell_type": "code",
   "execution_count": 9,
   "metadata": {},
   "outputs": [],
   "source": [
    "BDT_inputs = ['mjj', \"dphijj\", \"detajj\",\n",
    "              'MET',\n",
    "              'jet1_pt','jet1_eta','jet1_phi','jet1_e',\n",
    "              'jet2_pt','jet2_eta','jet2_phi','jet2_e'\n",
    "             ]"
   ]
  },
  {
   "cell_type": "code",
   "execution_count": 10,
   "metadata": {},
   "outputs": [],
   "source": [
    "x_train = aw.to_numpy(aw.flatten(train_data[BDT_inputs], axis=0))\n",
    "y_train = aw.to_numpy(aw.flatten(train_data['isVBF'], axis=0))\n",
    "w_train = aw.to_numpy(aw.flatten(train_data['weight'], axis=0))\n",
    "x_test = aw.flatten(test_data[BDT_inputs], axis=0)\n",
    "y_test = aw.flatten(test_data['isVBF'], axis=0)\n",
    "w_test = aw.flatten(test_data['weight'], axis=0)"
   ]
  },
  {
   "cell_type": "code",
   "execution_count": 10,
   "metadata": {},
   "outputs": [
    {
     "data": {
      "text/plain": [
       "11450590"
      ]
     },
     "execution_count": 10,
     "metadata": {},
     "output_type": "execute_result"
    }
   ],
   "source": [
    "len(x_test)"
   ]
  },
  {
   "cell_type": "code",
   "execution_count": 11,
   "metadata": {},
   "outputs": [
    {
     "name": "stdout",
     "output_type": "stream",
     "text": [
      "21734\n",
      "11428856\n"
     ]
    },
    {
     "data": {
      "text/plain": [
       "numpy.void"
      ]
     },
     "execution_count": 11,
     "metadata": {},
     "output_type": "execute_result"
    }
   ],
   "source": [
    "len_s_train = np.sum(y_train == 1)\n",
    "len_b_train = np.sum(y_train == 0)\n",
    "print(len_s_train)\n",
    "print(len_b_train)\n",
    "type(x_train[len(x_train)-1])\n"
   ]
  },
  {
   "cell_type": "code",
   "execution_count": null,
   "metadata": {},
   "outputs": [],
   "source": [
    "#Only Undersampling -> Small training sample\n",
    "# rus = RandomUnderSampler(random_state=0)\n",
    "# X_resampled, y_resampled = rus.fit_resample(np.array(x_train.tolist()), np.array(y_train.tolist()))\n",
    "# print('d')\n"
   ]
  },
  {
   "cell_type": "code",
   "execution_count": 16,
   "metadata": {},
   "outputs": [
    {
     "name": "stdout",
     "output_type": "stream",
     "text": [
      "5725295\n"
     ]
    }
   ],
   "source": [
    "#over and under sapling combination\n",
    "train_events = int((len_s_train+len_b_train)/2)\n",
    "train_events = 500000\n",
    "new_b = train_events\n",
    "new_s = train_events\n",
    "sampling_strategy = {0: new_b, 1: len_s_train}\n",
    "rus = RandomUnderSampler(sampling_strategy=sampling_strategy, random_state=0)\n",
    "x_temp, y_temp = rus.fit_resample(np.array(x_train.tolist()), np.array(y_train.tolist()))\n",
    "\n",
    "sampling_strategy = {0: new_b, 1: new_s}\n",
    "rus = RandomOverSampler(sampling_strategy=sampling_strategy, random_state=0)\n",
    "X_resampled, y_resampled = rus.fit_resample(x_temp, y_temp)\n",
    "print(train_events)"
   ]
  },
  {
   "cell_type": "code",
   "execution_count": 17,
   "metadata": {},
   "outputs": [
    {
     "name": "stdout",
     "output_type": "stream",
     "text": [
      "500000\n",
      "500000\n"
     ]
    },
    {
     "data": {
      "text/plain": [
       "numpy.void"
      ]
     },
     "execution_count": 17,
     "metadata": {},
     "output_type": "execute_result"
    }
   ],
   "source": [
    "len_s_train = np.sum(y_resampled == 1)\n",
    "len_b_train = np.sum(y_resampled == 0)\n",
    "print(len_s_train)\n",
    "print(len_b_train)\n",
    "type(x_train[len(x_train)-1])"
   ]
  },
  {
   "cell_type": "code",
   "execution_count": 13,
   "metadata": {},
   "outputs": [
    {
     "name": "stdout",
     "output_type": "stream",
     "text": [
      "len train: 16030826, len total: 22901180\n"
     ]
    }
   ],
   "source": [
    "print(f\"len train: {len(x_train)}, len total: {len(data_chain)}\")"
   ]
  },
  {
   "cell_type": "code",
   "execution_count": 12,
   "metadata": {},
   "outputs": [
    {
     "data": {
      "text/plain": [
       "array([[ 1.3161941e+06,  1.0329669e+00,  5.1306033e+00, ...,\n",
       "         1.9434820e+00, -1.1208700e+00,  3.4981319e+05],\n",
       "       [ 4.5227795e+06, -1.1901227e+00,  8.1276865e+00, ...,\n",
       "         3.8882389e+00, -6.3724041e-01,  1.8720088e+06],\n",
       "       [ 9.8265519e+05, -2.8433318e+00,  4.5021658e+00, ...,\n",
       "        -1.7006799e+00,  2.9646850e+00,  1.6136000e+05],\n",
       "       ...,\n",
       "       [ 3.1883895e+06,  2.1448321e+00,  3.6972585e+00, ...,\n",
       "         1.9717581e+00, -6.9329733e-01,  1.8049600e+06],\n",
       "       [ 9.8745081e+05,  2.1588194e+00,  3.8250663e+00, ...,\n",
       "        -3.0121579e+00,  2.4245834e+00,  8.9096250e+05],\n",
       "       [ 2.2219800e+06, -1.9704791e+00,  3.3831420e+00, ...,\n",
       "         2.1249113e+00,  1.3218042e+00,  1.5839761e+06]], dtype=float32)"
      ]
     },
     "execution_count": 12,
     "metadata": {},
     "output_type": "execute_result"
    }
   ],
   "source": [
    "x_train = x_train.view(f'({len(BDT_inputs)},) float32')\n",
    "x_train"
   ]
  },
  {
   "cell_type": "code",
   "execution_count": 18,
   "metadata": {},
   "outputs": [
    {
     "name": "stdout",
     "output_type": "stream",
     "text": [
      "Iteration 1, loss = 154374132.03003064\n",
      "Iteration 2, loss = 891978.40736697\n",
      "Iteration 3, loss = 691336.75226499\n",
      "Iteration 4, loss = 572624.39774273\n",
      "Iteration 5, loss = 467152.51203247\n",
      "Iteration 6, loss = 426337.24540215\n",
      "Iteration 7, loss = 360503.26967485\n",
      "Iteration 8, loss = 301829.39116440\n",
      "Iteration 9, loss = 265867.54732168\n",
      "Iteration 10, loss = 248724.43189218\n",
      "Iteration 11, loss = 214799.22738745\n",
      "Iteration 12, loss = 206470.81835804\n",
      "Iteration 13, loss = 178293.78970072\n",
      "Iteration 14, loss = 171681.70970928\n",
      "Iteration 15, loss = 143578.82656939\n",
      "Iteration 16, loss = 141713.97973020\n",
      "Iteration 17, loss = 134886.36562231\n",
      "Iteration 18, loss = 120058.26385700\n",
      "Iteration 19, loss = 114540.67724290\n",
      "Iteration 20, loss = 94880.83128550\n",
      "Iteration 21, loss = 104284.87863403\n",
      "Iteration 22, loss = 88248.71707213\n",
      "Iteration 23, loss = 81141.34203955\n",
      "Iteration 24, loss = 80072.82100853\n",
      "Iteration 25, loss = 82261.52356810\n",
      "Iteration 26, loss = 66392.02967910\n",
      "Iteration 27, loss = 65052.14551813\n",
      "Iteration 28, loss = 53205.53012222\n",
      "Iteration 29, loss = 47617.55719282\n",
      "Iteration 30, loss = 48366.74918891\n",
      "Iteration 31, loss = 46029.58028691\n",
      "Iteration 32, loss = 40728.23586076\n",
      "Iteration 33, loss = 34273.48215519\n",
      "Iteration 34, loss = 38883.05775767\n",
      "Iteration 35, loss = 30688.66905382\n",
      "Iteration 36, loss = 33714.46314909\n",
      "Iteration 37, loss = 28909.02230899\n",
      "Iteration 38, loss = 26850.29114374\n",
      "Iteration 39, loss = 26548.23981532\n",
      "Iteration 40, loss = 19766.87292716\n",
      "Iteration 41, loss = 20866.56878774\n",
      "Iteration 42, loss = 18361.29034870\n",
      "Iteration 43, loss = 18742.98838550\n",
      "Iteration 44, loss = 15492.24094791\n",
      "Iteration 45, loss = 12864.65515850\n",
      "Iteration 46, loss = 13891.51197421\n",
      "Iteration 47, loss = 12926.59088366\n",
      "Iteration 48, loss = 10269.50574229\n",
      "Iteration 49, loss = 10753.79928956\n",
      "Iteration 50, loss = 8285.69967810\n",
      "Iteration 51, loss = 8212.14477594\n",
      "Iteration 52, loss = 6503.57623499\n",
      "Iteration 53, loss = 6993.01534457\n",
      "Iteration 54, loss = 5153.95663407\n",
      "Iteration 55, loss = 5119.90314559\n",
      "Iteration 56, loss = 4568.05883894\n",
      "Iteration 57, loss = 4330.62156820\n",
      "Iteration 58, loss = 3952.86275026\n",
      "Iteration 59, loss = 3135.64482733\n",
      "Iteration 60, loss = 3053.87607107\n",
      "Iteration 61, loss = 2638.99772297\n",
      "Iteration 62, loss = 2249.09214000\n",
      "Iteration 63, loss = 2258.89758222\n",
      "Iteration 64, loss = 1711.80671989\n",
      "Iteration 65, loss = 1816.96610706\n",
      "Iteration 66, loss = 1526.06198931\n",
      "Iteration 67, loss = 1644.64375647\n",
      "Iteration 68, loss = 1175.15179456\n",
      "Iteration 69, loss = 792.16356029\n",
      "Iteration 70, loss = 513.91818409\n",
      "Iteration 71, loss = 467.14202671\n",
      "Iteration 72, loss = 1213.44713514\n",
      "Iteration 73, loss = 88.62694995\n",
      "Iteration 74, loss = 607.11641458\n",
      "Iteration 75, loss = 105.74996990\n",
      "Iteration 76, loss = 206.51416050\n",
      "Iteration 77, loss = 35.63559036\n",
      "Iteration 78, loss = 10.69138355\n",
      "Iteration 79, loss = 39.15607707\n",
      "Iteration 80, loss = 0.38602613\n",
      "Iteration 81, loss = 5.95684588\n",
      "Iteration 82, loss = 18.35195330\n",
      "Iteration 83, loss = 0.23171342\n",
      "Iteration 84, loss = 0.70119031\n",
      "Iteration 85, loss = 0.31023560\n",
      "Iteration 86, loss = 5.11167873\n",
      "Iteration 87, loss = 6.68982168\n",
      "Iteration 88, loss = 18.89929889\n",
      "Iteration 89, loss = 0.12502055\n",
      "Iteration 90, loss = 0.75107474\n",
      "Iteration 91, loss = 0.12663542\n",
      "Iteration 92, loss = 15.21340602\n",
      "Iteration 93, loss = 0.18738018\n",
      "Iteration 94, loss = 0.14918965\n",
      "Iteration 95, loss = 0.12880857\n",
      "Iteration 96, loss = 0.12741762\n",
      "Iteration 97, loss = 6.32878748\n",
      "Iteration 98, loss = 0.58801438\n",
      "Iteration 99, loss = 0.12738507\n",
      "Iteration 100, loss = 0.12500711\n",
      "Training loss did not improve more than tol=0.000100 for 10 consecutive epochs. Stopping.\n",
      "Time taken to fit SVM: 2005.6s\n",
      "MLPRegressor(verbose=True)\n"
     ]
    }
   ],
   "source": [
    "# params =  {\"verbose\":1,  \"loss\":\"huber\", \"max_depth\": 2 ,\"n_estimators\": 1000, \"min_samples_split\":0.5, \"min_samples_leaf\":0.01}\n",
    "reg = MLPRegressor(verbose=True)#, max_iter=100, max_leaf_nodes=64)\n",
    "\n",
    "# params =  {\"verbose\":1,  \"loss\":\"huber\", \"max_depth\": 2 ,\"n_estimators\": 1000, \"min_samples_split\":0.5, \"min_samples_leaf\":0.01}\n",
    "# reg = GradientBoostingRegressor(verbose=1, n_estimators=200)\n",
    "\n",
    "\n",
    "start = time.time() # time at start of BDT fit\n",
    "reg.fit(X_resampled, y_resampled) # fit BDT to training set\n",
    "elapsed = time.time() - start # time after fitting BDT\n",
    "print(\"Time taken to fit SVM: \"+str(round(elapsed,1))+\"s\") # print total time taken to fit BDT\n",
    "print(reg)"
   ]
  },
  {
   "cell_type": "code",
   "execution_count": 13,
   "metadata": {
    "scrolled": true
   },
   "outputs": [
    {
     "ename": "NameError",
     "evalue": "name 'reg' is not defined",
     "output_type": "error",
     "traceback": [
      "\u001b[0;31m---------------------------------------------------------------------------\u001b[0m",
      "\u001b[0;31mNameError\u001b[0m                                 Traceback (most recent call last)",
      "Input \u001b[0;32mIn [13]\u001b[0m, in \u001b[0;36m<cell line: 4>\u001b[0;34m()\u001b[0m\n\u001b[1;32m      1\u001b[0m \u001b[38;5;28;01mfrom\u001b[39;00m \u001b[38;5;21;01msklearn\u001b[39;00m\u001b[38;5;21;01m.\u001b[39;00m\u001b[38;5;21;01mmetrics\u001b[39;00m \u001b[38;5;28;01mimport\u001b[39;00m mean_squared_error\n\u001b[1;32m      3\u001b[0m X_test \u001b[38;5;241m=\u001b[39m aw\u001b[38;5;241m.\u001b[39mflatten(x_test,axis\u001b[38;5;241m=\u001b[39m\u001b[38;5;241m0\u001b[39m)\u001b[38;5;241m.\u001b[39mto_numpy()\u001b[38;5;241m.\u001b[39mview(\u001b[38;5;124mf\u001b[39m\u001b[38;5;124m'\u001b[39m\u001b[38;5;124m(\u001b[39m\u001b[38;5;132;01m{\u001b[39;00m\u001b[38;5;28mlen\u001b[39m(BDT_inputs)\u001b[38;5;132;01m}\u001b[39;00m\u001b[38;5;124m,) float32\u001b[39m\u001b[38;5;124m'\u001b[39m)\n\u001b[0;32m----> 4\u001b[0m y_pred_test \u001b[38;5;241m=\u001b[39m \u001b[43mreg\u001b[49m\u001b[38;5;241m.\u001b[39mpredict(X_test)\n\u001b[1;32m      5\u001b[0m y_pred_train \u001b[38;5;241m=\u001b[39m reg\u001b[38;5;241m.\u001b[39mpredict(x_train)\n\u001b[1;32m      6\u001b[0m Y_test \u001b[38;5;241m=\u001b[39m aw\u001b[38;5;241m.\u001b[39mflatten(y_test,axis\u001b[38;5;241m=\u001b[39m\u001b[38;5;241m0\u001b[39m)\n",
      "\u001b[0;31mNameError\u001b[0m: name 'reg' is not defined"
     ]
    }
   ],
   "source": [
    "from sklearn.metrics import mean_squared_error\n",
    "\n",
    "X_test = aw.flatten(x_test,axis=0).to_numpy().view(f'({len(BDT_inputs)},) float32')\n",
    "y_pred_test = reg.predict(X_test)\n",
    "y_pred_train = reg.predict(x_train)\n",
    "Y_test = aw.flatten(y_test,axis=0)"
   ]
  },
  {
   "cell_type": "code",
   "execution_count": 17,
   "metadata": {},
   "outputs": [
    {
     "data": {
      "text/plain": [
       "0.0018963817471719844"
      ]
     },
     "execution_count": 17,
     "metadata": {},
     "output_type": "execute_result"
    }
   ],
   "source": [
    "mean_squared_error(Y_test, y_pred_test)"
   ]
  },
  {
   "cell_type": "code",
   "execution_count": 18,
   "metadata": {},
   "outputs": [
    {
     "name": "stdout",
     "output_type": "stream",
     "text": [
      "AUC: 0.5\n"
     ]
    },
    {
     "data": {
      "image/png": "[encoded data removed]",
      "text/plain": [
       "<Figure size 432x288 with 1 Axes>"
      ]
     },
     "metadata": {
      "needs_background": "light"
     },
     "output_type": "display_data"
    }
   ],
   "source": [
    "from sklearn.metrics import roc_curve,auc\n",
    "from sklearn.metrics import RocCurveDisplay\n",
    "\n",
    "fpr, tpr, _ = roc_curve(Y_test, y_pred_test)\n",
    "roc_display = RocCurveDisplay(fpr=fpr, tpr=tpr).plot()\n",
    "print(f\"AUC: {auc(fpr, tpr)}\")"
   ]
  },
  {
   "cell_type": "code",
   "execution_count": 19,
   "metadata": {},
   "outputs": [
    {
     "data": {
      "image/png": "[encoded data removed]",
      "text/plain": [
       "<Figure size 432x288 with 1 Axes>"
      ]
     },
     "metadata": {
      "needs_background": "light"
     },
     "output_type": "display_data"
    }
   ],
   "source": [
    "from sklearn.metrics import precision_recall_curve\n",
    "from sklearn.metrics import PrecisionRecallDisplay\n",
    "\n",
    "prec, recall, _ = precision_recall_curve(y_test, y_pred_test)\n",
    "pr_display = PrecisionRecallDisplay(precision=prec, recall=recall).plot()"
   ]
  },
  {
   "cell_type": "code",
   "execution_count": 20,
   "metadata": {},
   "outputs": [
    {
     "name": "stdout",
     "output_type": "stream",
     "text": [
      "The signal(background) p-value in Kolmogorov-Smirnov test is: 1.00000(1.00000) \n"
     ]
    },
    {
     "data": {
      "text/plain": [
       "[StairsArtists(stairs=<matplotlib.patches.StepPatch object at 0x7ffc52571ee0>, errorbar=<ErrorbarContainer object of 3 artists>, legend_artist=<ErrorbarContainer object of 3 artists>),\n",
       " StairsArtists(stairs=<matplotlib.patches.StepPatch object at 0x7ffc52522610>, errorbar=<ErrorbarContainer object of 3 artists>, legend_artist=<ErrorbarContainer object of 3 artists>),\n",
       " StairsArtists(stairs=<matplotlib.patches.StepPatch object at 0x7ffc52534d60>, errorbar=<ErrorbarContainer object of 3 artists>, legend_artist=<ErrorbarContainer object of 3 artists>),\n",
       " StairsArtists(stairs=<matplotlib.patches.StepPatch object at 0x7ffc52663f40>, errorbar=<ErrorbarContainer object of 3 artists>, legend_artist=<ErrorbarContainer object of 3 artists>)]"
      ]
     },
     "execution_count": 20,
     "metadata": {},
     "output_type": "execute_result"
    },
    {
     "data": {
      "image/png": "[encoded data removed]",
      "text/plain": [
       "<Figure size 432x288 with 1 Axes>"
      ]
     },
     "metadata": {
      "needs_background": "light"
     },
     "output_type": "display_data"
    }
   ],
   "source": [
    "#define the hist\n",
    "h = hist.Hist.new.Reg(bins=20, start=0, stop=1, name=\"MVA response\")    \\\n",
    "    .StrCat(categories=[\"Train signal\",\"Train background\", \"Test signal\" ,\"Test background\"], name=\"data\") \\\n",
    "    .Double()\n",
    "# \n",
    "#fill the hist\n",
    "h = h.fill(y_pred_test[y_test == True],  data=\"Test signal\") #weight=w_test[y_test == True],\n",
    "h = h.fill(y_pred_test[y_test == False],  data=\"Test background\") #weight=w_test[y_test == False],\n",
    "\n",
    "h = h.fill(y_pred_train[y_train == True],  data=\"Train signal\") #weight=w_train[y_train == True],\n",
    "h = h.fill(y_pred_train[y_train == False],  data=\"Train background\") #weight=w_train[y_train == False],\n",
    "\n",
    "signal_test = kstest(h[:,\"Test signal\"], h[:,\"Train signal\"])\n",
    "bkg_test = kstest(h[:,\"Test background\"], h[:,\"Train background\"])\n",
    "\n",
    "print(f\"The signal(background) p-value in Kolmogorov-Smirnov test is: {signal_test.pvalue:.5f}({bkg_test.pvalue:.5f}) \")\n",
    "\n",
    "\n",
    "h.stack(\"data\").plot(density=True)"
   ]
  },
  {
   "cell_type": "code",
   "execution_count": 19,
   "metadata": {},
   "outputs": [],
   "source": [
    "import cloudpickle\n",
    "with open(f\"BDT_model_{do_cut}.pkl\", \"wb\") as o_file:\n",
    "    cloudpickle.dump(reg, o_file)"
   ]
  },
  {
   "cell_type": "code",
   "execution_count": 22,
   "metadata": {},
   "outputs": [],
   "source": [
    "testing_set = [\"VBF\", \"QCD\", \"TOP\", \"Wjets\", \"Wjj\", \"Zjets\", \"Zjj\"]\n",
    "data_chain = uproot.lazy([f\"output/{procees}_12_cuts.root:miniT\" for procees in testing_set])"
   ]
  },
  {
   "cell_type": "code",
   "execution_count": null,
   "metadata": {},
   "outputs": [],
   "source": [
    "x = data_chain[BDT_inputs].to_numpy().view(f'({len(BDT_inputs)},) float32')\n",
    "y = data_chain[\"isVBF\"].to_numpy()\n",
    "w = data_chain['weight'].to_numpy()\n",
    "y_pred = reg.predict(x)"
   ]
  },
  {
   "cell_type": "code",
   "execution_count": null,
   "metadata": {},
   "outputs": [],
   "source": [
    "from sklearn.metrics import roc_curve,auc\n",
    "from sklearn.metrics import RocCurveDisplay\n",
    "\n",
    "fpr, tpr, _ = roc_curve(y, y_pred)\n",
    "roc_display = RocCurveDisplay(fpr=fpr, tpr=tpr).plot()\n",
    "print(f\"AUC: {auc(fpr, tpr)}\")"
   ]
  },
  {
   "cell_type": "code",
   "execution_count": null,
   "metadata": {},
   "outputs": [],
   "source": [
    "from sklearn.metrics import precision_recall_curve\n",
    "from sklearn.metrics import PrecisionRecallDisplay\n",
    "\n",
    "prec, recall, _ = precision_recall_curve(y, y_pred)\n",
    "pr_display = PrecisionRecallDisplay(precision=prec, recall=recall).plot()"
   ]
  },
  {
   "cell_type": "code",
   "execution_count": null,
   "metadata": {},
   "outputs": [],
   "source": [
    "import plotly.graph_objects as go\n",
    "ncuts = 200\n",
    "\n",
    "y_pred_sgn = y_pred[y == True]\n",
    "w_sgn = w[y == True]\n",
    "y_pred_bkg = y_pred[y == False]\n",
    "w_bkg = w[y == False]\n",
    "cuts = []\n",
    "signals = []\n",
    "backgrounds = []\n",
    "significances = []\n",
    "for i in range(ncuts + 1):\n",
    "    cut = 2*i/ncuts - 1\n",
    "    datos_sgn = w_sgn[y_pred_sgn > cut]\n",
    "    datos_bkg = w_bkg[y_pred_bkg > cut]\n",
    "    s = np.sum(datos_sgn)\n",
    "    b = np.sum(datos_bkg)\n",
    "    if s > 1 and b > 1:\n",
    "        sig = significance(s,b)\n",
    "        cuts.append(cut)\n",
    "        signals.append(s)\n",
    "        backgrounds.append(b)\n",
    "        significances.append(sig)\n",
    "        # print(f\"{cut = }, signal = {s}, background = {b}, {sig = }\")\n",
    "print(f\" Max sig is: {max(significances)}\")\n",
    "fig = go.Figure(\n",
    "data=go.Scatter(\n",
    "    x=cuts, \n",
    "    y=significances, \n",
    "    name=\"\",\n",
    "    customdata=[(s,b) for s,b in zip(signals,backgrounds)],\n",
    "    hovertemplate='signal: %{customdata[0]:.3f} <br>background: %{customdata[1]:.3f} ',\n",
    "    )\n",
    ")\n",
    "# Edit the layout\n",
    "fig.update_layout(title='Poisson Significance',\n",
    "                xaxis_title='MVA cut',\n",
    "                yaxis_title='Significance')\n",
    "\n",
    "fig"
   ]
  },
  {
   "cell_type": "code",
   "execution_count": null,
   "metadata": {},
   "outputs": [],
   "source": [
    "from sklearn.inspection import permutation_importance\n",
    "\n",
    "perm_imp = permutation_importance(reg, X=x, y=y, n_repeats=10, random_state=0)\n"
   ]
  },
  {
   "cell_type": "code",
   "execution_count": null,
   "metadata": {},
   "outputs": [],
   "source": []
  }
 ],
 "metadata": {
  "interpreter": {
   "hash": "4a17e43c82bf65cf2197ddf50c5c7981fccd98c130680f3456482934ad6048aa"
  },
  "kernelspec": {
   "display_name": "venv",
   "language": "python",
   "name": "venv"
  },
  "language_info": {
   "codemirror_mode": {
    "name": "ipython",
    "version": 3
   },
   "file_extension": ".py",
   "mimetype": "text/x-python",
   "name": "python",
   "nbconvert_exporter": "python",
   "pygments_lexer": "ipython3",
   "version": "3.9.7"
  }
 },
 "nbformat": 4,
 "nbformat_minor": 2
}
